{
 "cells": [
  {
   "cell_type": "markdown",
   "id": "507fb283",
   "metadata": {},
   "source": [
    "### Q11 to Q15 are programming questions. Answer them in Jupyter Notebook."
   ]
  },
  {
   "cell_type": "markdown",
   "id": "a53cc384",
   "metadata": {},
   "source": [
    "#### Q11. Write a python program to find the factorial of a number."
   ]
  },
  {
   "cell_type": "code",
   "execution_count": 1,
   "id": "08b89257",
   "metadata": {},
   "outputs": [
    {
     "name": "stdout",
     "output_type": "stream",
     "text": [
      "Enter a number: 4\n",
      "The factorial of 4 is 24\n"
     ]
    }
   ],
   "source": [
    "# Define a function to calculate the factorial\n",
    "def factorial(n):\n",
    "    result = 1\n",
    "    # Iterate from 1 to n, multiplying each number by the result variable\n",
    "    for i in range(1, n+1):\n",
    "        result *= i    \n",
    "    return result\n",
    "\n",
    "# Take the User Input\n",
    "num = int(input(\"Enter a number: \"))\n",
    "\n",
    "# Call the factorial function and print the result\n",
    "print(\"The factorial of\", num, \"is\", factorial(num))"
   ]
  },
  {
   "cell_type": "code",
   "execution_count": null,
   "id": "609e2d1a",
   "metadata": {},
   "outputs": [],
   "source": []
  },
  {
   "cell_type": "markdown",
   "id": "ba275a3d",
   "metadata": {},
   "source": [
    "#### Q12. Write a python program to find whether a number is prime or composite"
   ]
  },
  {
   "cell_type": "code",
   "execution_count": 3,
   "id": "b0863341",
   "metadata": {},
   "outputs": [
    {
     "name": "stdout",
     "output_type": "stream",
     "text": [
      "Enter a number: 11\n",
      "The Given number is prime.\n"
     ]
    }
   ],
   "source": [
    "# Get the User input\n",
    "num = int(input(\"Enter a number: \"))\n",
    "\n",
    "# Apply a Conition to Check whether the number is prime or composite\n",
    "if num > 1:\n",
    "    for i in range(2, int(num ** 0.5) + 1):\n",
    "        # If the input number is divisible by any number in the range, it is composite\n",
    "        if (num % i) == 0:\n",
    "            print(\"The Given number is composite\")\n",
    "            break\n",
    "    else:\n",
    "        # If no factors were found, the input number is prime\n",
    "        print(\"The Given number is prime.\")\n",
    "else:\n",
    "    print(\"The Given number is neither prime nor composite.\")\n"
   ]
  },
  {
   "cell_type": "code",
   "execution_count": null,
   "id": "40f1a210",
   "metadata": {},
   "outputs": [],
   "source": []
  },
  {
   "cell_type": "markdown",
   "id": "2e3db39d",
   "metadata": {},
   "source": [
    "#### Q13. Write a python program to check whether a given string is palindrome or not"
   ]
  },
  {
   "cell_type": "code",
   "execution_count": 4,
   "id": "45345e36",
   "metadata": {},
   "outputs": [
    {
     "name": "stdout",
     "output_type": "stream",
     "text": [
      "Enter a string: BOB\n",
      "BOB is a palindrome.\n"
     ]
    }
   ],
   "source": [
    "# Take a String from the User\n",
    "my_string = input(\"Enter a string: \")\n",
    "\n",
    "# Reverse the string and check if it is equal to the original string\n",
    "if my_string == my_string[::-1]:\n",
    "    print(my_string, \"is a palindrome.\")\n",
    "else:\n",
    "    print(my_string, \"is not a palindrome.\")"
   ]
  },
  {
   "cell_type": "code",
   "execution_count": null,
   "id": "66bd1722",
   "metadata": {},
   "outputs": [],
   "source": []
  },
  {
   "cell_type": "markdown",
   "id": "4d307400",
   "metadata": {},
   "source": [
    "#### Q14. Write a Python program to get the third side of right-angled triangle from two given sides."
   ]
  },
  {
   "cell_type": "code",
   "execution_count": 5,
   "id": "f15fd5db",
   "metadata": {},
   "outputs": [
    {
     "name": "stdout",
     "output_type": "stream",
     "text": [
      "Enter the length of the first side: 12\n",
      "Enter the length of the second side: 12\n",
      "The length of the third side is: 16.97056274847714\n"
     ]
    }
   ],
   "source": [
    "# Take the User Input for the 2 sides of Triangle\n",
    "\n",
    "s1 = float(input(\"Enter the length of the first side: \"))\n",
    "s2 = float(input(\"Enter the length of the second side: \"))\n",
    "\n",
    "# Calculate the length of the third side using the Pythagoras theorem\n",
    "s3 = (s1**2 + s1**2)**0.5\n",
    "\n",
    "print(\"The length of the third side is:\", s3)"
   ]
  },
  {
   "cell_type": "code",
   "execution_count": null,
   "id": "686f1919",
   "metadata": {},
   "outputs": [],
   "source": []
  },
  {
   "cell_type": "markdown",
   "id": "c61b5bc5",
   "metadata": {},
   "source": [
    "#### Q15. Write a python program to print the frequency of each of the characters present in a given string."
   ]
  },
  {
   "cell_type": "code",
   "execution_count": 6,
   "id": "82733d1c",
   "metadata": {},
   "outputs": [
    {
     "name": "stdout",
     "output_type": "stream",
     "text": [
      "Enter a string: adfbakubabvla\n",
      "a : 4\n",
      "d : 1\n",
      "f : 1\n",
      "b : 3\n",
      "k : 1\n",
      "u : 1\n",
      "v : 1\n",
      "l : 1\n"
     ]
    }
   ],
   "source": [
    "# Take User input\n",
    "str1 = input(\"Enter a string: \")\n",
    "\n",
    "# Create an empty dictionary to store character frequencies\n",
    "Frequency = {}\n",
    "\n",
    "# Iterate over each character in the string\n",
    "# If the character is already in the dictionary, increment its frequency by 1 \n",
    "for char in str1:\n",
    "\n",
    "    if char in Frequency:\n",
    "        Frequency[char] += 1\n",
    "    else:\n",
    "        Frequency[char] = 1\n",
    "\n",
    "# Print the character frequencies\n",
    "for char in Frequency:\n",
    "    print(char, \":\", Frequency[char])\n"
   ]
  },
  {
   "cell_type": "code",
   "execution_count": null,
   "id": "01f2b26a",
   "metadata": {},
   "outputs": [],
   "source": []
  }
 ],
 "metadata": {
  "kernelspec": {
   "display_name": "Python 3 (ipykernel)",
   "language": "python",
   "name": "python3"
  },
  "language_info": {
   "codemirror_mode": {
    "name": "ipython",
    "version": 3
   },
   "file_extension": ".py",
   "mimetype": "text/x-python",
   "name": "python",
   "nbconvert_exporter": "python",
   "pygments_lexer": "ipython3",
   "version": "3.9.13"
  }
 },
 "nbformat": 4,
 "nbformat_minor": 5
}
