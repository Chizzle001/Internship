{
 "cells": [
  {
   "cell_type": "markdown",
   "id": "111da988",
   "metadata": {},
   "source": [
    "### Q11 to Q15 are programming questions. Answer them in Jupyter Notebook."
   ]
  },
  {
   "cell_type": "markdown",
   "id": "2a0d0992",
   "metadata": {},
   "source": [
    "#### 11. Write a python function print pyramid of stars. Level of the pyramid should be taken as an input from the\n",
    "user. E.g.\n",
    "Input = 5\n",
    "Output:"
   ]
  },
  {
   "cell_type": "code",
   "execution_count": 1,
   "id": "9030dc9f",
   "metadata": {},
   "outputs": [
    {
     "name": "stdout",
     "output_type": "stream",
     "text": [
      "Enter the level of the pyramid: 5\n",
      "    * \n",
      "   * * \n",
      "  * * * \n",
      " * * * * \n",
      "* * * * * \n"
     ]
    }
   ],
   "source": [
    "# Define a Function \n",
    "def Pyramid(n):\n",
    "    for i in range(1, n+1):\n",
    "        print(\" \"*(n-i) + \"* \"*(i))\n",
    "\n",
    "n = int(input(\"Enter the level of the pyramid: \"))\n",
    "Pyramid(n)"
   ]
  },
  {
   "cell_type": "code",
   "execution_count": null,
   "id": "8f5f7048",
   "metadata": {},
   "outputs": [],
   "source": []
  },
  {
   "cell_type": "markdown",
   "id": "c927af22",
   "metadata": {},
   "source": [
    "#### Q.12 Write a python function print Hourglass pattern.\n",
    "E.g.\n",
    "Input = 5\n",
    "Output: "
   ]
  },
  {
   "cell_type": "code",
   "execution_count": 2,
   "id": "09db4e35",
   "metadata": {},
   "outputs": [
    {
     "name": "stdout",
     "output_type": "stream",
     "text": [
      "Enter the size of the hourglass: 5\n",
      "* * * * * \n",
      " * * * *  \n",
      "  * * *   \n",
      "   * *    \n",
      "    *     \n",
      "   * *    \n",
      "  * * *   \n",
      " * * * *  \n",
      "* * * * * \n"
     ]
    }
   ],
   "source": [
    "# Define a function\n",
    "def Hourglass(n):\n",
    "    for i in range(n, 0, -1):\n",
    "        \n",
    "        # for Upper part of Hourglass\n",
    "        print(\" \"*(n-i) + \"* \"*(i) + \" \"*(n-i))\n",
    "        \n",
    "        #For Lower Part of HourGlass\n",
    "    for i in range(2, n+1):\n",
    "        print(\" \"*(n-i) + \"* \"*(i) + \" \"*(n-i))\n",
    "\n",
    "n = int(input(\"Enter the size of the hourglass: \"))\n",
    "Hourglass(n)"
   ]
  },
  {
   "cell_type": "markdown",
   "id": "c5249fed",
   "metadata": {},
   "source": [
    "#### Q13.Write a python function to print Pascal’s Triangle. The number of levels in the triangle must be taken as input by the user. E.g.\n",
    "Input = 5"
   ]
  },
  {
   "cell_type": "code",
   "execution_count": 3,
   "id": "d6c93095",
   "metadata": {},
   "outputs": [
    {
     "name": "stdout",
     "output_type": "stream",
     "text": [
      "Enter the number of levels in Pascal's Triangle: 5\n",
      "1 \n",
      "1 1 \n",
      "1 2 1 \n",
      "1 3 3 1 \n",
      "1 4 6 4 1 \n"
     ]
    }
   ],
   "source": [
    "def Pascals_Triangle(n):\n",
    "    for i in range(0, n):\n",
    "        for j in range(0, i+1):\n",
    "            print(binomial_coefficient(i, j), end=\" \")\n",
    "        print()\n",
    "\n",
    "def binomial_coefficient(n, k):\n",
    "    if k == 0 or k == n:\n",
    "        return 1\n",
    "    else:\n",
    "        return binomial_coefficient(n-1, k-1) + binomial_coefficient(n-1, k)\n",
    "\n",
    "n = int(input(\"Enter the number of levels in Pascal's Triangle: \"))\n",
    "Pascals_Triangle(n)"
   ]
  },
  {
   "cell_type": "code",
   "execution_count": null,
   "id": "41e5e339",
   "metadata": {},
   "outputs": [],
   "source": []
  },
  {
   "cell_type": "markdown",
   "id": "cc670b27",
   "metadata": {},
   "source": [
    "#### Q14. Write a python function to print Diamond Shaped Pattern shown below. Function must take integer input which represents the number of stars in the middle most line. E.g.:\n",
    "Input = 5"
   ]
  },
  {
   "cell_type": "code",
   "execution_count": 4,
   "id": "3d1158fc",
   "metadata": {},
   "outputs": [
    {
     "name": "stdout",
     "output_type": "stream",
     "text": [
      "Enter the number of stars in the middle most line: 5\n",
      "    * \n",
      "   * * \n",
      "  * * * \n",
      " * * * * \n",
      "* * * * * \n",
      " * * * * \n",
      "  * * * \n",
      "   * * \n",
      "    * \n"
     ]
    }
   ],
   "source": [
    "def Diamond(n):\n",
    "    for i in range(1, n+1):\n",
    "        print(\" \"*(n-i) + \"* \"*(i))\n",
    "    for i in range(n-1, 0, -1):\n",
    "        print(\" \"*(n-i) + \"* \"*(i))\n",
    "\n",
    "n = int(input(\"Enter the number of stars in the middle most line: \"))\n",
    "Diamond(n)"
   ]
  },
  {
   "cell_type": "markdown",
   "id": "7a88cc3a",
   "metadata": {},
   "source": [
    "#### Q15. Write a python function to print Diamond Shaped Character Pattern shown below. Function must take integer input within range 1 to 26, which represents the rank of the alphabet. E.g.:\n",
    "Input = 5 "
   ]
  },
  {
   "cell_type": "code",
   "execution_count": 7,
   "id": "a7f630e9",
   "metadata": {},
   "outputs": [
    {
     "name": "stdout",
     "output_type": "stream",
     "text": [
      "Enter Diamond Alphabets Pattern Rows = 5\n",
      "    A\n",
      "   ABC\n",
      "  ABCDE\n",
      " ABCDEFG\n",
      "ABCDEFGHI\n",
      " ABCDEFG\n",
      "  ABCDE\n",
      "   ABC\n",
      "    A\n"
     ]
    }
   ],
   "source": [
    "rows = int(input(\"Enter Diamond Alphabets Pattern Rows = \"))\n",
    "alphabet = 64\n",
    "\n",
    "for i in range(1, rows + 1):\n",
    "    for j in range(1, rows - i + 1):\n",
    "        print(end = ' ')\n",
    "    for k in range(1, (2 * i)):\n",
    "        print('%c' %(alphabet + k), end = '')\n",
    "    print()\n",
    "\n",
    "for i in range(rows - 1, 0, -1):\n",
    "    for j in range(1, (rows - i + 1)):\n",
    "        print(end = ' ')\n",
    "    for k in range(1, (2 * i)):\n",
    "        print('%c' %(alphabet + k), end = '')\n",
    "    print()"
   ]
  },
  {
   "cell_type": "code",
   "execution_count": null,
   "id": "9c903851",
   "metadata": {},
   "outputs": [],
   "source": []
  }
 ],
 "metadata": {
  "kernelspec": {
   "display_name": "Python 3 (ipykernel)",
   "language": "python",
   "name": "python3"
  },
  "language_info": {
   "codemirror_mode": {
    "name": "ipython",
    "version": 3
   },
   "file_extension": ".py",
   "mimetype": "text/x-python",
   "name": "python",
   "nbconvert_exporter": "python",
   "pygments_lexer": "ipython3",
   "version": "3.9.13"
  }
 },
 "nbformat": 4,
 "nbformat_minor": 5
}
