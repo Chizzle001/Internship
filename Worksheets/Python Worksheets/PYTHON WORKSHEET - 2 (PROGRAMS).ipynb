{
 "cells": [
  {
   "cell_type": "markdown",
   "id": "ff21aa71",
   "metadata": {},
   "source": [
    "### Q14 and Q15 are programming questions. Answer them in Jupyter Notebook."
   ]
  },
  {
   "cell_type": "markdown",
   "id": "b9eb99a5",
   "metadata": {},
   "source": [
    "#### 14. Write a python program to solve a quadratic equation of the form ax^2+bx+c=0. Where a, b and c are to be taken by user input. Handle the erroneous input, such as ‘a’ should not be equal to 0."
   ]
  },
  {
   "cell_type": "code",
   "execution_count": 1,
   "id": "a8b11dc4",
   "metadata": {},
   "outputs": [
    {
     "name": "stdout",
     "output_type": "stream",
     "text": [
      "Enter the coefficient of x^2: 2\n",
      "Enter the coefficient of x: 8\n",
      "Enter the constant term: 1\n",
      "The roots are: -0.12917130661302934 and -3.8708286933869704\n"
     ]
    }
   ],
   "source": [
    "import math\n",
    "\n",
    "# Take User Input for Coefficients of the Quadratic equation\n",
    "a = float(input(\"Enter the coefficient of x^2: \"))\n",
    "b = float(input(\"Enter the coefficient of x: \"))\n",
    "c = float(input(\"Enter the constant term: \"))\n",
    "\n",
    "# Check for condition where 'a' is not equal to zero \n",
    "if a == 0:\n",
    "    print(\"The coefficient of x^2 cannot be zero.\")\n",
    "else:\n",
    "    result = b**2 - 4*a*c\n",
    "\n",
    "    # Check if the result is positive,negative or zero\n",
    "    if result > 0:\n",
    "        # Calculate the two roots\n",
    "        r1 = (-b + math.sqrt(result)) / (2*a)\n",
    "        r2 = (-b - math.sqrt(result)) / (2*a)\n",
    "        print(\"The roots are:\", r1, \"and\", r2)\n",
    "    elif result == 0:\n",
    "        # Calculate the single root\n",
    "        r = -b / (2*a)\n",
    "        print(\"The root is:\", r)\n",
    "    else:\n",
    "        # Display a message if the roots are imaginary\n",
    "        print(\"The roots are imaginary.\")\n"
   ]
  },
  {
   "cell_type": "code",
   "execution_count": null,
   "id": "795b3911",
   "metadata": {},
   "outputs": [],
   "source": []
  },
  {
   "cell_type": "markdown",
   "id": "e600e185",
   "metadata": {},
   "source": [
    "#### 15. Write a python program to find the sum of first ‘n’ natural numbers without using any loop. Ask users to input the value of ‘n’."
   ]
  },
  {
   "cell_type": "code",
   "execution_count": 2,
   "id": "65e54385",
   "metadata": {},
   "outputs": [
    {
     "name": "stdout",
     "output_type": "stream",
     "text": [
      "Enter a positive integer: 10\n",
      "The sum of first 10 natural numbers is: 55\n"
     ]
    }
   ],
   "source": [
    "# Take 'n' as user Input\n",
    "n = int(input(\"Enter a positive integer: \"))\n",
    "\n",
    "#Applying the formula for sum of N Natural Numbers\n",
    "sum_Natural = (n * (n + 1)) // 2\n",
    "\n",
    "print(\"The sum of first\", n, \"natural numbers is:\", sum_Natural)"
   ]
  },
  {
   "cell_type": "code",
   "execution_count": 3,
   "id": "616218ae",
   "metadata": {},
   "outputs": [
    {
     "data": {
      "text/plain": [
       "55"
      ]
     },
     "execution_count": 3,
     "metadata": {},
     "output_type": "execute_result"
    }
   ],
   "source": [
    "0+1+3+2+4+5+6+7+8+9+10"
   ]
  }
 ],
 "metadata": {
  "kernelspec": {
   "display_name": "Python 3 (ipykernel)",
   "language": "python",
   "name": "python3"
  },
  "language_info": {
   "codemirror_mode": {
    "name": "ipython",
    "version": 3
   },
   "file_extension": ".py",
   "mimetype": "text/x-python",
   "name": "python",
   "nbconvert_exporter": "python",
   "pygments_lexer": "ipython3",
   "version": "3.9.13"
  }
 },
 "nbformat": 4,
 "nbformat_minor": 5
}
